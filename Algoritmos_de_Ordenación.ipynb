{
  "nbformat": 4,
  "nbformat_minor": 0,
  "metadata": {
    "colab": {
      "name": "Algoritmos de Ordenación.ipynb",
      "provenance": []
    },
    "kernelspec": {
      "name": "python3",
      "display_name": "Python 3"
    },
    "language_info": {
      "name": "python"
    }
  },
  "cells": [
    {
      "cell_type": "markdown",
      "source": [
        "# Análisis temporal de algunos de los algoritmos de ordenación\n",
        "Curso de Análisis y Diseño de Algoritmos\n",
        "\n",
        "Espinoza Champi Israel Enrique"
      ],
      "metadata": {
        "id": "YlYhXHF4Z0M8"
      }
    },
    {
      "cell_type": "markdown",
      "source": [
        "### Bibliotecas Necesarias"
      ],
      "metadata": {
        "id": "yU5eM9lXZ8qE"
      }
    },
    {
      "cell_type": "code",
      "execution_count": 1,
      "metadata": {
        "id": "zMZnC4OZZsGP"
      },
      "outputs": [],
      "source": [
        "from random import*\n",
        "from time import time"
      ]
    },
    {
      "cell_type": "markdown",
      "source": [
        "### 1. Insertion Sort"
      ],
      "metadata": {
        "id": "kxv9s8N1aDxT"
      }
    },
    {
      "cell_type": "code",
      "source": [
        "def insertionSort(arr):\n",
        "    for i in range(1, len(arr)):\n",
        "        key = arr[i]\n",
        "        j = i-1\n",
        "        while j >=0 and key < arr[j] :\n",
        "                arr[j+1] = arr[j]\n",
        "                j -= 1\n",
        "        arr[j+1] = key"
      ],
      "metadata": {
        "id": "yqnbjSFnZ_lb"
      },
      "execution_count": 2,
      "outputs": []
    },
    {
      "cell_type": "code",
      "source": [
        "L=[6,7,2,0,3,12,67,120,15]\n",
        "insertionSort(L)\n",
        "L"
      ],
      "metadata": {
        "colab": {
          "base_uri": "https://localhost:8080/"
        },
        "id": "U-cNTUwPaIek",
        "outputId": "c5ff1aa7-7046-4c6c-8ed9-d0d649856c0f"
      },
      "execution_count": 3,
      "outputs": [
        {
          "output_type": "execute_result",
          "data": {
            "text/plain": [
              "[0, 2, 3, 6, 7, 12, 15, 67, 120]"
            ]
          },
          "metadata": {},
          "execution_count": 3
        }
      ]
    },
    {
      "cell_type": "markdown",
      "source": [
        "### 2. Merge Sort"
      ],
      "metadata": {
        "id": "giS9lyYdaKtj"
      }
    },
    {
      "cell_type": "code",
      "source": [
        "def merge_sort(lista):\n",
        "   \"\"\" Ordena lista mediante el método merge sort.\n",
        "       Pre: lista debe contener elementos comparables.\n",
        "       Devuelve: una nueva lista ordenada. \"\"\"\n",
        "   # Una lista de 1 o 0 elementos, ya está ordenada\n",
        "   if len(lista) < 2:\n",
        "      return lista\n",
        "   # Si tiene 2 o más elementos, se divide al medio y ordena cada parte\n",
        "   medio = len(lista) // 2\n",
        "   izq = merge_sort(lista[:medio])\n",
        "   der = merge_sort(lista[medio:])\n",
        "   #tenemos las listaas izq y der \n",
        "   return merge(izq, der)\n",
        "\n",
        "def merge(lista1, lista2):\n",
        "   \"\"\" Intercala los elementos de lista1 y lista2 de forma ordenada.\n",
        "       Pre: lista1 y lista2 deben estar ordenadas.\n",
        "       Devuelve: una lista con los elementos de lista1 y lista2. \"\"\"\n",
        "   #inicializamos en 0 ambas variables\n",
        "   i, j = 0, 0\n",
        "   #inicializamos el arreglo resultado\n",
        "   resultado = []\n",
        "   # Intercalar ordenadamente\n",
        "   while (i < len(lista1) and j < len(lista2)):\n",
        "      if (lista1[i] < lista2[j]):\n",
        "         resultado.append(lista1[i])\n",
        "         i += 1\n",
        "      else:\n",
        "         resultado.append(lista2[j])\n",
        "         j += 1\n",
        "   # Agregar lo que falta, si i o j ya son len(lista) no agrega nada.\n",
        "   resultado += lista1[i:]\n",
        "   resultado += lista2[j:]\n",
        "   #retorna el resultado con los elementos ordenados de la lista\n",
        "   return resultado"
      ],
      "metadata": {
        "id": "GrEnD26waQCz"
      },
      "execution_count": 4,
      "outputs": []
    },
    {
      "cell_type": "code",
      "source": [
        "L=[4,6,7,2,3,12,67,120,15]\n",
        "print(merge_sort(L))"
      ],
      "metadata": {
        "colab": {
          "base_uri": "https://localhost:8080/"
        },
        "id": "kfJ9ph2qaVJk",
        "outputId": "51f947bc-22e8-485a-f705-39ae25670568"
      },
      "execution_count": 5,
      "outputs": [
        {
          "output_type": "stream",
          "name": "stdout",
          "text": [
            "[2, 3, 4, 6, 7, 12, 15, 67, 120]\n"
          ]
        }
      ]
    },
    {
      "cell_type": "markdown",
      "source": [
        "### 3. Shell Sort"
      ],
      "metadata": {
        "id": "HqFjeXoyadLS"
      }
    },
    {
      "cell_type": "code",
      "source": [
        "def shellSort(array):\n",
        "    #calcula el tamano del arreglo\n",
        "    n=len(array)\n",
        "   # Reorganizar elementos en cada n / 2, n / 4, n / 8, ... intervalos\n",
        "   # nos quedamos con la parte entera\n",
        "    #calcula la distancia que habra que dejar el elemento y sus predecesores \n",
        "    #a la hora de comparar sus valores\n",
        "    interval = n // 2\n",
        "    #mientras el intervalo sea mayor que 0, hacer, controla las veces\n",
        "    #que el algoritmo se debe de repetir, hasta que enten ordenado \n",
        "    while interval > 0:\n",
        "        #se tiene la variable de iteracion i que ira desde interval hasta n\n",
        "        #inicia desde el elemento que se va a comparar con sus predecesores\n",
        "        for i in range(interval, n):\n",
        "            #la variable Temp ayuda a mantener el valor que se esta evaluando , \n",
        "            #de esta manera no se pierde en el proceso de intercambio\n",
        "            temp = array[i]\n",
        "            #sirve para ir seleccionando el predecesor , del valor que se\n",
        "            #esta evaluando\n",
        "            j = i\n",
        "            #estara distanciado dependiendo de la variable interval\n",
        "            while j >= interval and array[j - interval] > temp:\n",
        "                #ordenar los elementos de la sublista\n",
        "                array[j] = array[j - interval]\n",
        "                #retrocede interval espacios hasta agotarlos\n",
        "                j -= interval\n",
        "            #se actualiza el arreglo de la posicion segun corresponda , el valor \n",
        "            #que corresponde segun i de la variable temp\n",
        "            array[j] = temp\n",
        "        #se va actualizando la variable interval, en cada iteracion    \n",
        "        interval //= 2"
      ],
      "metadata": {
        "id": "we3HtjGmaluM"
      },
      "execution_count": 6,
      "outputs": []
    },
    {
      "cell_type": "code",
      "source": [
        "L=[6,7,2,0,3,12,67,120,15]\n",
        "shellSort(L)\n",
        "L"
      ],
      "metadata": {
        "colab": {
          "base_uri": "https://localhost:8080/"
        },
        "id": "hAwgqeNxaqP9",
        "outputId": "f9e97a9b-574c-41c1-ee92-86bae0d88e5f"
      },
      "execution_count": 7,
      "outputs": [
        {
          "output_type": "execute_result",
          "data": {
            "text/plain": [
              "[0, 2, 3, 6, 7, 12, 15, 67, 120]"
            ]
          },
          "metadata": {},
          "execution_count": 7
        }
      ]
    },
    {
      "cell_type": "markdown",
      "source": [
        "### 4. Comb Sort"
      ],
      "metadata": {
        "id": "4-BsYDv0asrD"
      }
    },
    {
      "cell_type": "code",
      "source": [
        "def combsort(num):\n",
        "    # Inicializar brecha\n",
        "    gap = len(num)\n",
        "    # Inicializar intercambiado como verdadero para asegurarse de que\n",
        "    # ejecuciones de bucle\n",
        "    swaps = True\n",
        "    # Sigue corriendo mientras la brecha sea mayor a 1 o\n",
        "    # la ultima iteración provocó un cambio\n",
        "    while gap > 1 or swaps:\n",
        "        #Encontar la siguiente brecha\n",
        "        gap = max(1, int(gap / 1.25))  \n",
        "        swaps = False\n",
        "        for i in range(len(num) - gap):\n",
        "            j = i+gap\n",
        "            if num[i] > num[j]:\n",
        "                num[i], num[j] = num[j], num[i]\n",
        "                swaps = True"
      ],
      "metadata": {
        "id": "jfTTnvsKawFU"
      },
      "execution_count": 8,
      "outputs": []
    },
    {
      "cell_type": "code",
      "source": [
        "L=[6,7,2,0,3,12,67,120,-2,15]\n",
        "combsort(L)\n",
        "L"
      ],
      "metadata": {
        "colab": {
          "base_uri": "https://localhost:8080/"
        },
        "id": "QTAyyrfwbG8z",
        "outputId": "4a0700da-8541-4405-872e-f1237adccd16"
      },
      "execution_count": 9,
      "outputs": [
        {
          "output_type": "execute_result",
          "data": {
            "text/plain": [
              "[-2, 0, 2, 3, 6, 7, 12, 15, 67, 120]"
            ]
          },
          "metadata": {},
          "execution_count": 9
        }
      ]
    },
    {
      "cell_type": "markdown",
      "source": [
        "### 5. Selection Sort"
      ],
      "metadata": {
        "id": "mCHOHEdTelW6"
      }
    },
    {
      "cell_type": "code",
      "source": [
        "def selectionSort(arr):\n",
        "    tam = len(arr)\n",
        "    # i indica cuántos elementos se ordenaron\n",
        "    for i in range(tam):\n",
        "        # Para encontrar el valor mínimo del segmento sin clasificar\n",
        "        # Asumimos que el primer elemento es el más bajo\n",
        "        min_index = i\n",
        "        # Luego usamos j para recorrer los elementos restantes\n",
        "        for j in range(i+1, tam):\n",
        "            # Actualizamos min_index si el elemento en j es menor que él\n",
        "            if arr[j] < arr[min_index]:\n",
        "                min_index = j\n",
        "        # Después de encontrar el elemento más bajo de las regiones sin clasificar\n",
        "        # cámbielo por el primer elemento sin clasificar\n",
        "        arr[i], arr[min_index] = arr[min_index], arr[i]"
      ],
      "metadata": {
        "id": "tPHTShB2e198"
      },
      "execution_count": 10,
      "outputs": []
    },
    {
      "cell_type": "code",
      "source": [
        "L=[6,7,2,0,3,12,67,120,-2,15]\n",
        "selectionSort(L)\n",
        "L"
      ],
      "metadata": {
        "colab": {
          "base_uri": "https://localhost:8080/"
        },
        "id": "sc1gZTx8e5oN",
        "outputId": "2d55d03e-7231-46c4-c811-c4ba70bc13a1"
      },
      "execution_count": 11,
      "outputs": [
        {
          "output_type": "execute_result",
          "data": {
            "text/plain": [
              "[-2, 0, 2, 3, 6, 7, 12, 15, 67, 120]"
            ]
          },
          "metadata": {},
          "execution_count": 11
        }
      ]
    },
    {
      "cell_type": "markdown",
      "source": [
        "### 6. Bubble Sort"
      ],
      "metadata": {
        "id": "GSvYlQ4Fe7uJ"
      }
    },
    {
      "cell_type": "code",
      "source": [
        "def bubbleSort(Lista):\n",
        "  #pasamos por todos los elementos de la lista\n",
        "  for N in range(len(Lista)-1,0,-1):\n",
        "    #intercambiamos elementos para compararar elementos en \n",
        "    #posiciones contiguas\n",
        "    for i in range(N):\n",
        "      #preguntemos si en la posicion actual de la\n",
        "      #lista se encuentra un elemento mayor que el \n",
        "      #elementos que el elemento que esta en la siguiente posicion       \n",
        "      if Lista[i]>Lista[i+1]:\n",
        "        #hacemos el intercambio\n",
        "        temp = Lista[i]\n",
        "        Lista[i] = Lista[i+1]\n",
        "        Lista[i+1] = temp"
      ],
      "metadata": {
        "id": "uNpYXswae_VT"
      },
      "execution_count": 12,
      "outputs": []
    },
    {
      "cell_type": "code",
      "source": [
        "L=[6,7,2,0,3,12,67,120,15]\n",
        "bubbleSort(L)\n",
        "L"
      ],
      "metadata": {
        "colab": {
          "base_uri": "https://localhost:8080/"
        },
        "id": "84VQUVaSfDAU",
        "outputId": "27f8b379-2cb3-4af9-8c3b-aff071ded8c8"
      },
      "execution_count": 13,
      "outputs": [
        {
          "output_type": "execute_result",
          "data": {
            "text/plain": [
              "[0, 2, 3, 6, 7, 12, 15, 67, 120]"
            ]
          },
          "metadata": {},
          "execution_count": 13
        }
      ]
    },
    {
      "cell_type": "markdown",
      "source": [
        "### 7. Radix Sort"
      ],
      "metadata": {
        "id": "1yAWvjZ_fEwt"
      }
    },
    {
      "cell_type": "code",
      "source": [
        "# obtener el número de dígitos del elemento más grande\n",
        "def num_digitos(arr):\n",
        "    maxDigito = 0\n",
        "    for num in arr:\n",
        "        maxDigito = max(maxDigito, num)\n",
        "    #retornamos el numero de cifras\n",
        "    return len(str(maxDigito))\n",
        " \n",
        "# aplanar en una lista 1D\n",
        "from functools import reduce\n",
        "def flatten(arr):\n",
        "    return reduce(lambda x, y: x + y, arr)\n",
        "#definimos la funcion de \n",
        "def radixSort(arr):\n",
        "    digitos = num_digitos(arr)\n",
        "    for digito in range(0, digitos):\n",
        "        temp = [[] for i in range(10)]\n",
        "        for item in arr:\n",
        "            num = (item // (10 ** digito)) % 10\n",
        "            temp[num].append(item)\n",
        "        arr = flatten(temp)\n",
        "    return arr"
      ],
      "metadata": {
        "id": "bNkWioddfISN"
      },
      "execution_count": 14,
      "outputs": []
    },
    {
      "cell_type": "code",
      "source": [
        "L=[6,7,2,0,3,12,67,120,15]\n",
        "L = radixSort(L)\n",
        "L"
      ],
      "metadata": {
        "colab": {
          "base_uri": "https://localhost:8080/"
        },
        "id": "j6loeOrRfRBU",
        "outputId": "aeb20e86-b85e-4592-9b3b-9170d2521ef5"
      },
      "execution_count": 15,
      "outputs": [
        {
          "output_type": "execute_result",
          "data": {
            "text/plain": [
              "[0, 2, 3, 6, 7, 12, 15, 67, 120]"
            ]
          },
          "metadata": {},
          "execution_count": 15
        }
      ]
    },
    {
      "cell_type": "markdown",
      "source": [
        "### 8.  Bucket Sort"
      ],
      "metadata": {
        "id": "bhBrO0ZBf-D7"
      }
    },
    {
      "cell_type": "code",
      "source": [
        "#Para cada conjunto de sub-arreglos usamos el InsertSort\n",
        "#ordenando sus elementos\n",
        "def insertion_sort(bucket):\n",
        "    for i in range (1, len (bucket)):\n",
        "        var = bucket[i]\n",
        "        j = i - 1\n",
        "        while (j >= 0 and var < bucket[j]):\n",
        "            bucket[j + 1] = bucket[j]\n",
        "            j = j - 1\n",
        "        bucket[j + 1] = var\n",
        "\n",
        "#Formacion de cubos individuales\n",
        "def bucket_sort(input_list):\n",
        "    max_value = max(input_list)\n",
        "    size = max_value/len(input_list)\n",
        "\n",
        "    buckets_list= [] #Cubos vacios   \n",
        "    for x in range(len(input_list)):\n",
        "        buckets_list.append([]) \n",
        "    #Seleccion de elementos para cada cubo\n",
        "    for i in range(len(input_list)):\n",
        "        j = int (input_list[i] / size)\n",
        "        if j != len (input_list):\n",
        "            buckets_list[j].append(input_list[i])\n",
        "        else:\n",
        "            buckets_list[len(input_list) - 1].append(input_list[i])\n",
        "    #Ordenamos los cubos individualmente\n",
        "    for z in range(len(input_list)):\n",
        "        insertion_sort(buckets_list[z])\n",
        "            \n",
        "    final_output = []\n",
        "    for x in range(len (input_list)):\n",
        "        #Al arreglo de salida se le agrega cada cubo ordenado\n",
        "        final_output = final_output + buckets_list[x]\n",
        "    return final_output"
      ],
      "metadata": {
        "id": "B4cdFGyGgETb"
      },
      "execution_count": 16,
      "outputs": []
    },
    {
      "cell_type": "code",
      "source": [
        "L=[4,6,7,2,3,12,67,120,15]\n",
        "print(bucket_sort(L))"
      ],
      "metadata": {
        "colab": {
          "base_uri": "https://localhost:8080/"
        },
        "id": "8ZIQMEPXgGWC",
        "outputId": "e1c29df8-cce6-49cc-e359-f90998544a3e"
      },
      "execution_count": 17,
      "outputs": [
        {
          "output_type": "stream",
          "name": "stdout",
          "text": [
            "[2, 3, 4, 6, 7, 12, 15, 67, 120]\n"
          ]
        }
      ]
    },
    {
      "cell_type": "markdown",
      "source": [
        "### 9. HeapSort"
      ],
      "metadata": {
        "id": "ZAXDakUSgKFC"
      }
    },
    {
      "cell_type": "code",
      "source": [
        "# Formar el monticulo desde i\n",
        "def heapify(arr, n, i):\n",
        "    largest = i # raiz\n",
        "    l = 2 * i + 1\n",
        "    r = 2 * i + 2\n",
        "\n",
        "    #Verifica  el hijo izquierdo\n",
        "    if l < n and arr[i] < arr[l]:\n",
        "        largest = l\n",
        "\n",
        "    #Verifica  el hijo derecho\n",
        "    if r < n and arr[largest] < arr[r]:\n",
        "        largest = r\n",
        "\n",
        "    #Si es necesario se cambia la raiz\n",
        "    if largest != i:\n",
        "        arr[i],arr[largest] = arr[largest],arr[i]\n",
        "\n",
        "        # Monticulo de la raiz\n",
        "        heapify(arr, n, largest)\n",
        "\n",
        "def heapSort(arr):\n",
        "    n = len(arr)\n",
        "\n",
        "    # Construir el monticulo\n",
        "    # Inicia desde el ultimo padre\n",
        "    for i in range(n // 2 - 1, -1, -1):\n",
        "        heapify(arr, n, i)\n",
        "\n",
        "    # Extraemos uno por uno los elementos\n",
        "    for i in range(n-1, 0, -1):\n",
        "        arr[i], arr[0] = arr[0], arr[i]\n",
        "        heapify(arr, i, 0)"
      ],
      "metadata": {
        "id": "tMnDmOy7gLUz"
      },
      "execution_count": 18,
      "outputs": []
    },
    {
      "cell_type": "code",
      "source": [
        "L=[4,6,7,2,3,12,67,120,15]\n",
        "heapSort(L)\n",
        "L"
      ],
      "metadata": {
        "colab": {
          "base_uri": "https://localhost:8080/"
        },
        "id": "ya7qQrj2gNwz",
        "outputId": "c6aa60bf-0e0f-4758-e22b-ef0e73851b35"
      },
      "execution_count": 19,
      "outputs": [
        {
          "output_type": "execute_result",
          "data": {
            "text/plain": [
              "[2, 3, 4, 6, 7, 12, 15, 67, 120]"
            ]
          },
          "metadata": {},
          "execution_count": 19
        }
      ]
    },
    {
      "cell_type": "markdown",
      "source": [
        "### 10. QuickSort"
      ],
      "metadata": {
        "id": "8ENEMacUgQ2N"
      }
    },
    {
      "cell_type": "code",
      "source": [
        "def partition(arr, low, high):\n",
        "    i = (low-1)      \n",
        "    #Se elije como pivote el ultimo elemento del arreglo   \n",
        "    pivot = arr[high]   \n",
        "  \n",
        "    for j in range(low, high):\n",
        "        #Se acomodan los elementos a un lado los mayores\n",
        "        # y al otro los menores al pivote\n",
        "        if arr[j] <= pivot:\n",
        "            i = i+1\n",
        "            arr[i], arr[j] = arr[j], arr[i]\n",
        "  \n",
        "    arr[i+1], arr[high] = arr[high], arr[i+1]\n",
        "    return (i+1)\n",
        "\n",
        "def quickSort(arr, low, high):\n",
        "    if len(arr) == 1:\n",
        "        return arr\n",
        "    if low < high:\n",
        "        #La posicion de la particion\n",
        "        pi = partition(arr, low, high)\n",
        "        quickSort(arr, low, pi-1)\n",
        "        quickSort(arr, pi+1, high)"
      ],
      "metadata": {
        "id": "_V85HHc2gTDy"
      },
      "execution_count": 20,
      "outputs": []
    },
    {
      "cell_type": "code",
      "source": [
        "L=[4,6,7,2,3,12,67,120,15]\n",
        "quickSort(L,0,len(L)-1)\n",
        "L"
      ],
      "metadata": {
        "colab": {
          "base_uri": "https://localhost:8080/"
        },
        "id": "XmSiOdjdgVmT",
        "outputId": "20fb0ea5-0fb7-4398-e27d-c2940e56e170"
      },
      "execution_count": 21,
      "outputs": [
        {
          "output_type": "execute_result",
          "data": {
            "text/plain": [
              "[2, 3, 4, 6, 7, 12, 15, 67, 120]"
            ]
          },
          "metadata": {},
          "execution_count": 21
        }
      ]
    },
    {
      "cell_type": "markdown",
      "source": [
        "## Análisis Temporal"
      ],
      "metadata": {
        "id": "yde3ZsGpgYKj"
      }
    },
    {
      "cell_type": "code",
      "source": [
        "# Creacion de arreglos para los 3 casos\n",
        "def generarArreglo(num, op):\n",
        "    if(op==\"N\"): # Arreglo aleatorio normal\n",
        "        arr = [randint(0,99999) for x in range(num)]\n",
        "    elif(op==\"A\"): # Arreglo aleatorio ascendente\n",
        "        arr = generarArreglo(num, 'N')\n",
        "        arr.sort()\n",
        "    elif(op==\"D\"): # Arreglo aleatorio descendente\n",
        "        arr = generarArreglo(num, 'N')\n",
        "        arr.sort()\n",
        "        arr.reverse()\n",
        "    else:\n",
        "        print(\"Opcion no valida...\")\n",
        "    return arr"
      ],
      "metadata": {
        "id": "gh7_XJCtgbkM"
      },
      "execution_count": 22,
      "outputs": []
    },
    {
      "cell_type": "code",
      "source": [
        "def Ordenar(arr):\n",
        "    start_time1 = time() #Inicio\n",
        "    insertionSort(arr)\n",
        "    elapsed_time1 = time() - start_time1 #Fin\n",
        "    print(\"\\nTiempo transcurrido InsertSort: \", elapsed_time1) #Muestra el tiempo transcurrido\n",
        "\n",
        "    start_time1 = time() #Inicio\n",
        "    merge_sort(arr)\n",
        "    elapsed_time1 = time() - start_time1 #Fin\n",
        "    print(\"\\nTiempo transcurrido MergeSort: \", elapsed_time1) #Muestra el tiempo transcurrido\n",
        "\n",
        "    start_time1 = time() #Inicio\n",
        "    shellSort(arr)\n",
        "    elapsed_time1 = time() - start_time1 #Fin\n",
        "    print(\"\\nTiempo transcurrido ShellSort: \", elapsed_time1) #Muestra el tiempo transcurrido\n",
        "    \n",
        "    start_time1 = time() #Inicio\n",
        "    combsort(arr)\n",
        "    elapsed_time1 = time() - start_time1 #Fin\n",
        "    print(\"\\nTiempo transcurrido CombSort: \", elapsed_time1) #Muestra el tiempo transcurrido\n",
        "\n",
        "    start_time1 = time() #Inicio\n",
        "    selectionSort(arr)\n",
        "    elapsed_time1 = time() - start_time1 #Fin\n",
        "    print(\"\\nTiempo transcurrido SelectionSort: \", elapsed_time1) #Muestra el tiempo transcurrido\n",
        "\n",
        "    start_time1 = time() #Inicio\n",
        "    bubbleSort(arr)\n",
        "    elapsed_time1 = time() - start_time1 #Fin\n",
        "    print(\"\\nTiempo transcurrido BubbleSort: \", elapsed_time1) #Muestra el tiempo transcurrido\n",
        "\n",
        "    start_time1 = time() #Inicio\n",
        "    radixSort(arr)\n",
        "    elapsed_time1 = time() - start_time1 #Fin\n",
        "    print(\"\\nTiempo transcurrido RadixSort: \", elapsed_time1) #Muestra el tiempo transcurrido\n",
        "\n",
        "    start_time1 = time() #Inicio\n",
        "    bucket_sort(arr)\n",
        "    elapsed_time1 = time() - start_time1 #Fin\n",
        "    print(\"\\nTiempo transcurrido BucketSort: \", elapsed_time1) #Muestra el tiempo transcurrido\n",
        "\n",
        "    start_time1 = time() #Inicio\n",
        "    heapSort(arr)\n",
        "    elapsed_time1 = time() - start_time1 #Fin\n",
        "    print(\"\\nTiempo transcurrido HeapSort: \", elapsed_time1) #Muestra el tiempo transcurrido"
      ],
      "metadata": {
        "id": "frQq625Sgtlr"
      },
      "execution_count": 23,
      "outputs": []
    },
    {
      "cell_type": "code",
      "source": [
        "# generamos un arreglo de 100 elementos\n",
        "arr_1 = generarArreglo(10000,\"N\") # orden aleatorio\n",
        "arr_2 = generarArreglo(10000,\"A\") # orden ascendente\n",
        "arr_3 = generarArreglo(10000,\"D\") # orden descendente"
      ],
      "metadata": {
        "id": "NIWiFYivgvVD"
      },
      "execution_count": 28,
      "outputs": []
    },
    {
      "cell_type": "markdown",
      "source": [
        "### Caso aleatorio"
      ],
      "metadata": {
        "id": "SpzWOmzpho1o"
      }
    },
    {
      "cell_type": "code",
      "source": [
        "Ordenar(arr_1)"
      ],
      "metadata": {
        "colab": {
          "base_uri": "https://localhost:8080/"
        },
        "id": "E5wlmyxShoPz",
        "outputId": "4150d5a1-590e-474a-8968-f554b9764fe5"
      },
      "execution_count": 29,
      "outputs": [
        {
          "output_type": "stream",
          "name": "stdout",
          "text": [
            "\n",
            "Tiempo transcurrido InsertSort:  4.881919860839844\n",
            "\n",
            "Tiempo transcurrido MergeSort:  0.03863716125488281\n",
            "\n",
            "Tiempo transcurrido ShellSort:  0.025969743728637695\n",
            "\n",
            "Tiempo transcurrido CombSort:  0.0441739559173584\n",
            "\n",
            "Tiempo transcurrido SelectionSort:  4.23618221282959\n",
            "\n",
            "Tiempo transcurrido BubbleSort:  5.579291105270386\n",
            "\n",
            "Tiempo transcurrido RadixSort:  0.02353382110595703\n",
            "\n",
            "Tiempo transcurrido BucketSort:  0.18319344520568848\n",
            "\n",
            "Tiempo transcurrido HeapSort:  0.0818934440612793\n"
          ]
        }
      ]
    },
    {
      "cell_type": "markdown",
      "source": [
        "### Mejor caso: arreglo ordenado"
      ],
      "metadata": {
        "id": "fe5DXs4Nhxdm"
      }
    },
    {
      "cell_type": "code",
      "source": [
        "Ordenar(arr_2)"
      ],
      "metadata": {
        "colab": {
          "base_uri": "https://localhost:8080/"
        },
        "id": "hqB_zmM3hwzL",
        "outputId": "35116fdd-d850-416c-a192-7294e9055625"
      },
      "execution_count": 30,
      "outputs": [
        {
          "output_type": "stream",
          "name": "stdout",
          "text": [
            "\n",
            "Tiempo transcurrido InsertSort:  0.004339456558227539\n",
            "\n",
            "Tiempo transcurrido MergeSort:  0.04477643966674805\n",
            "\n",
            "Tiempo transcurrido ShellSort:  0.02507472038269043\n",
            "\n",
            "Tiempo transcurrido CombSort:  0.03825187683105469\n",
            "\n",
            "Tiempo transcurrido SelectionSort:  4.334912538528442\n",
            "\n",
            "Tiempo transcurrido BubbleSort:  5.738558053970337\n",
            "\n",
            "Tiempo transcurrido RadixSort:  0.019753694534301758\n",
            "\n",
            "Tiempo transcurrido BucketSort:  0.17745065689086914\n",
            "\n",
            "Tiempo transcurrido HeapSort:  0.08992433547973633\n"
          ]
        }
      ]
    },
    {
      "cell_type": "markdown",
      "source": [
        "### Peor caso: arreglo en orden descendente"
      ],
      "metadata": {
        "id": "Jc00CAXdiGWz"
      }
    },
    {
      "cell_type": "code",
      "source": [
        "Ordenar(arr_3)"
      ],
      "metadata": {
        "colab": {
          "base_uri": "https://localhost:8080/"
        },
        "id": "QZeU14hpiMte",
        "outputId": "0e27355b-d20b-4439-97c0-b9258015fba2"
      },
      "execution_count": 31,
      "outputs": [
        {
          "output_type": "stream",
          "name": "stdout",
          "text": [
            "\n",
            "Tiempo transcurrido InsertSort:  9.642359972000122\n",
            "\n",
            "Tiempo transcurrido MergeSort:  0.03935742378234863\n",
            "\n",
            "Tiempo transcurrido ShellSort:  0.02601790428161621\n",
            "\n",
            "Tiempo transcurrido CombSort:  0.03949785232543945\n",
            "\n",
            "Tiempo transcurrido SelectionSort:  4.2418553829193115\n",
            "\n",
            "Tiempo transcurrido BubbleSort:  6.900238513946533\n",
            "\n",
            "Tiempo transcurrido RadixSort:  0.020158052444458008\n",
            "\n",
            "Tiempo transcurrido BucketSort:  0.1734907627105713\n",
            "\n",
            "Tiempo transcurrido HeapSort:  0.09070301055908203\n"
          ]
        }
      ]
    }
  ]
}